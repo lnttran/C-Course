{
  "cells": [
    {
      "cell_type": "markdown",
      "metadata": {
        "id": "HL_xdnU5tdLs"
      },
      "source": [
        "# Solving the n-Queens Problem using Local Search\n",
        "\n",
        "Student Name: Tran Lam\n",
        "\n",
        "I have used the following AI tools: Chat GPT\n",
        "\n",
        "I understand that my submission needs to be my own work: TL\n",
        "\n",
        "## Instructions\n",
        "\n",
        "Total Points: Undergrads 100 + 5 bonus / Graduate students 110\n",
        "\n",
        "Complete this notebook. Use the provided notebook cells and insert additional code and markdown cells as needed. Submit the completely rendered notebook as a HTML file.\n"
      ]
    },
    {
      "cell_type": "markdown",
      "metadata": {
        "id": "MxABg_sOtdLu"
      },
      "source": [
        "## The n-Queens Problem\n",
        "\n",
        "* __Goal:__ Find an arrangement of $n$ queens on a $n \\times n$ chess board so that no queen is on the same row, column or diagonal as any other queen.\n",
        "\n",
        "* __State space:__ An arrangement of the queens on the board. We restrict the state space to arrangements where there is only a single queen per column. We represent a state as an integer vector $\\mathbf{q} = \\{q_1, q_2, \\dots, q_n\\}$, each number representing the row positions of the queens from left to right. We will call a state a \"board.\"\n",
        "\n",
        "* __Objective function:__ The number of pairwise conflicts (i.e., two queens in the same row/column/diagonal).\n",
        "The optimization problem is to find the optimal arrangement $\\mathbf{q}^*$ of $n$ queens on the board can be written as:\n",
        "\n",
        "  > minimize: $\\mathrm{conflicts}(\\mathbf{q})$\n",
        "  >\n",
        "  > subject to: $\\mathbf{q} \\ \\text{contains only one queen per column}$\n",
        "\n",
        "  Note: the constraint (subject to) is enforced by the definition of the state space.\n",
        "\n",
        "* __Local improvement move:__ Move one queen to a different row in its column.\n",
        "\n",
        "* __Termination:__ For this problem there is always an arrangement $\\mathbf{q}^*$ with $\\mathrm{conflicts}(\\mathbf{q}^*) = 0$, however, the local improvement moves might end up in a local minimum."
      ]
    },
    {
      "cell_type": "markdown",
      "metadata": {
        "id": "2xrZoW8ltdLu"
      },
      "source": [
        "## Helper functions"
      ]
    },
    {
      "cell_type": "code",
      "execution_count": 201,
      "metadata": {
        "id": "MU_B1WHwtdLu"
      },
      "outputs": [],
      "source": [
        "import numpy as np\n",
        "import matplotlib.pyplot as plt\n",
        "from matplotlib import colors\n",
        "\n",
        "np.random.seed(1234)\n",
        "\n",
        "\n",
        "def random_board(n):\n",
        "    \"\"\"Creates a random board of size n x n. Note that only a single queen is placed in each column!\"\"\"\n",
        "\n",
        "    return(np.random.randint(0,n, size = n))\n",
        "\n",
        "def comb2(n): return n*(n-1)//2 # this is n choose 2 equivalent to math.comb(n, 2); // is int division\n",
        "\n",
        "def conflicts(board):\n",
        "    \"\"\"Calculate the number of conflicts, i.e., the objective function.\"\"\"\n",
        "\n",
        "    n = len(board)\n",
        "\n",
        "    horizontal_cnt = [0] * n\n",
        "    diagonal1_cnt = [0] * 2 * n\n",
        "    diagonal2_cnt = [0] * 2 * n\n",
        "\n",
        "    for i in range(n):\n",
        "        horizontal_cnt[board[i]] += 1\n",
        "        diagonal1_cnt[i + board[i]] += 1\n",
        "        diagonal2_cnt[i - board[i] + n] += 1\n",
        "\n",
        "    return sum(map(comb2, horizontal_cnt + diagonal1_cnt + diagonal2_cnt))\n",
        "\n",
        "# decrease the font size to fit larger boards\n",
        "def show_board(board, cols = ['white', 'gray'], fontsize = 48):\n",
        "    \"\"\"display the board\"\"\"\n",
        "\n",
        "    n = len(board)\n",
        "\n",
        "    # create chess board display\n",
        "    display = np.zeros([n,n])\n",
        "    for i in range(n):\n",
        "        for j in range(n):\n",
        "            if (((i+j) % 2) != 0):\n",
        "                display[i,j] = 1\n",
        "\n",
        "    cmap = colors.ListedColormap(cols)\n",
        "    fig, ax = plt.subplots()\n",
        "    ax.imshow(display, cmap = cmap,\n",
        "              norm = colors.BoundaryNorm(range(len(cols)+1), cmap.N))\n",
        "    ax.set_xticks([])\n",
        "    ax.set_yticks([])\n",
        "\n",
        "    # place queens. Note: Unicode u265B is a black queen\n",
        "    for j in range(n):\n",
        "        plt.text(j, board[j], u\"\\u265B\", fontsize = fontsize,\n",
        "                 horizontalalignment = 'center',\n",
        "                 verticalalignment = 'center')\n",
        "\n",
        "    print(f\"Board with {conflicts(board)} conflicts.\")\n",
        "    plt.show()"
      ]
    },
    {
      "cell_type": "markdown",
      "metadata": {
        "id": "UyBqEckWtdLv"
      },
      "source": [
        "## Create a board"
      ]
    },
    {
      "cell_type": "code",
      "execution_count": 202,
      "metadata": {
        "colab": {
          "base_uri": "https://localhost:8080/",
          "height": 457
        },
        "id": "Yr96ImSLtdLv",
        "outputId": "09d12e8b-0040-4417-ec3a-6507150004c9"
      },
      "outputs": [
        {
          "output_type": "stream",
          "name": "stdout",
          "text": [
            "Board with 4 conflicts.\n"
          ]
        },
        {
          "output_type": "display_data",
          "data": {
            "text/plain": [
              "<Figure size 640x480 with 1 Axes>"
            ],
            "image/png": "[encoded data removed]"
          },
          "metadata": {}
        },
        {
          "output_type": "stream",
          "name": "stdout",
          "text": [
            "Queens (left to right) are at rows: [3 3 2 1]\n",
            "Number of conflicts: 4\n"
          ]
        }
      ],
      "source": [
        "board = random_board(4)\n",
        "\n",
        "show_board(board)\n",
        "print(f\"Queens (left to right) are at rows: {board}\")\n",
        "print(f\"Number of conflicts: {conflicts(board)}\")"
      ]
    },
    {
      "cell_type": "markdown",
      "metadata": {
        "id": "9TRVCMS-tdLw"
      },
      "source": [
        "A board $4 \\times 4$ with no conflicts:"
      ]
    },
    {
      "cell_type": "code",
      "execution_count": 203,
      "metadata": {
        "colab": {
          "base_uri": "https://localhost:8080/",
          "height": 423
        },
        "id": "hsM1wML8tdLw",
        "outputId": "124db00a-15c2-4667-a19f-eefb474bcc05"
      },
      "outputs": [
        {
          "output_type": "stream",
          "name": "stdout",
          "text": [
            "Board with 0 conflicts.\n"
          ]
        },
        {
          "output_type": "display_data",
          "data": {
            "text/plain": [
              "<Figure size 640x480 with 1 Axes>"
            ],
            "image/png": "[encoded data removed]"
          },
          "metadata": {}
        }
      ],
      "source": [
        "board = [1,3,0,2]\n",
        "show_board(board)"
      ]
    },
    {
      "cell_type": "markdown",
      "metadata": {
        "id": "yLYVOH56tdLw"
      },
      "source": [
        "# Tasks\n",
        "\n",
        "## General [10 Points]\n",
        "\n",
        "1. Make sure that you use the latest version of this notebook. Sync your forked repository and pull the latest revision.\n",
        "2. Your implementation can use libraries like math, numpy, scipy, but not libraries that implement intelligent agents or complete search algorithms. Try to keep the code simple! In this course, we want to learn about the algorithms and we often do not need to use object-oriented design.\n",
        "3. You notebook needs to be formatted professionally.\n",
        "    - Add additional markdown blocks for your description, comments in the code, add tables and use mathplotlib to produce charts where appropriate\n",
        "    - Do not show debugging output or include an excessive amount of output.\n",
        "    - Check that your PDF file is readable. For example, long lines are cut off in the PDF file. You don't have control over page breaks, so do not worry about these.\n",
        "4. Document your code. Add a short discussion of how your implementation works and your design choices."
      ]
    },
    {
      "cell_type": "markdown",
      "metadata": {
        "id": "CBWEwhwKtdLw"
      },
      "source": [
        "## Task 1: Steepest-ascend Hill Climbing Search [30 Points]\n",
        "\n",
        "Calculate the objective function for all local moves (see definition of local moves above) and always choose the best among all local moves. If there are no local moves that improve the objective, then you have reached a local optimum."
      ]
    },
    {
      "cell_type": "code",
      "source": [
        "import numpy as np"
      ],
      "metadata": {
        "id": "4_HU37TJvGNB"
      },
      "execution_count": 206,
      "outputs": []
    },
    {
      "cell_type": "code",
      "execution_count": 218,
      "metadata": {
        "id": "dGiq9PEhtdLw"
      },
      "outputs": [],
      "source": [
        "# Code and description go here\n",
        "def steepest_ascent(board, debug=False):\n",
        "    n = len(board)\n",
        "    current_conflicts = conflicts(board)\n",
        "    if debug:\n",
        "        print(f\"Initial board: {board}\")\n",
        "        print(f\"Initial conflicts: {current_conflicts}\")\n",
        "    while True:\n",
        "        improving_moves = []\n",
        "        improving_conflict = []\n",
        "        for col in range(n):\n",
        "            original_row = board[col]\n",
        "            for row in range(n):\n",
        "                if row != original_row:\n",
        "                    board[col] = row\n",
        "                    new_conflicts = conflicts(board)\n",
        "                    if debug:\n",
        "                        print(f\"Trying move queen in column {col} to row {row} => Conflicts: {new_conflicts}\")\n",
        "\n",
        "                    if new_conflicts < current_conflicts:\n",
        "                        improving_moves.append((col, row))\n",
        "                        improving_conflict.append(new_conflicts)\n",
        "            board[col] = original_row\n",
        "        if not improving_moves:\n",
        "            if debug:\n",
        "                print(\"Reached local minimum; no improving move found.\")\n",
        "            break\n",
        "        col, row = improving_moves[np.argmin(improving_conflict)]\n",
        "        board[col] = row\n",
        "        current_conflicts = conflicts(board)\n",
        "        if debug:\n",
        "            print(f\"Moved queen in column {col} to row {row}. New conflicts: {current_conflicts}\")\n",
        "            print(f\"Board: {board}\")\n",
        "    return board\n"
      ]
    },
    {
      "cell_type": "code",
      "source": [
        "board = random_board(4)\n",
        "print(f\"Initial board (queens in rows): {board}\")\n",
        "print(f\"Initial conflicts: {conflicts(board)}\")\n",
        "show_board(board)\n",
        "\n",
        "board = steepest_ascent(board)\n",
        "print(f\"Final board (queens in rows): {board}\")\n",
        "print(f\"Final conflicts: {conflicts(board)}\")\n",
        "show_board(board)"
      ],
      "metadata": {
        "colab": {
          "base_uri": "https://localhost:8080/",
          "height": 897
        },
        "id": "kAvrpXuuvM-w",
        "outputId": "d74a3406-9e7d-4dce-d053-51e92e4abbd0"
      },
      "execution_count": 219,
      "outputs": [
        {
          "output_type": "stream",
          "name": "stdout",
          "text": [
            "Initial board (queens in rows): [0 3 0 1]\n",
            "Initial conflicts: 3\n",
            "Board with 3 conflicts.\n"
          ]
        },
        {
          "output_type": "display_data",
          "data": {
            "text/plain": [
              "<Figure size 640x480 with 1 Axes>"
            ],
            "image/png": "[encoded data removed]"
          },
          "metadata": {}
        },
        {
          "output_type": "stream",
          "name": "stdout",
          "text": [
            "Final board (queens in rows): [1 3 0 2]\n",
            "Final conflicts: 0\n",
            "Board with 0 conflicts.\n"
          ]
        },
        {
          "output_type": "display_data",
          "data": {
            "text/plain": [
              "<Figure size 640x480 with 1 Axes>"
            ],
            "image/png": "[encoded data removed]"
          },
          "metadata": {}
        }
      ]
    },
    {
      "cell_type": "markdown",
      "metadata": {
        "id": "iIVut64ctdLw"
      },
      "source": [
        "## Task 2: Stochastic Hill Climbing 1 [10 Points]\n",
        "\n",
        "Chooses randomly from among all uphill moves till you have reached a local optimum."
      ]
    },
    {
      "cell_type": "code",
      "source": [
        "import random"
      ],
      "metadata": {
        "id": "OHAd0RN_uEzx"
      },
      "execution_count": 205,
      "outputs": []
    },
    {
      "cell_type": "code",
      "execution_count": 220,
      "metadata": {
        "id": "vzkEpJXntdLw"
      },
      "outputs": [],
      "source": [
        "# Code and description go here\n",
        "def stochastic_hill_climbing(board, debug=False):\n",
        "    n = len(board)\n",
        "    current_conflicts = conflicts(board)\n",
        "    if debug:\n",
        "        print(f\"Initial board: {board}\")\n",
        "        print(f\"Initial conflicts: {current_conflicts}\")\n",
        "    while True:\n",
        "        improving_moves = []\n",
        "        for col in range(n):\n",
        "            original_row = board[col]\n",
        "            for row in range(n):\n",
        "                if row != original_row:\n",
        "                    board[col] = row\n",
        "                    new_conflicts = conflicts(board)\n",
        "                    if debug:\n",
        "                        print(f\"Trying move queen in column {col} to row {row} => Conflicts: {new_conflicts}\")\n",
        "                    if new_conflicts < current_conflicts:\n",
        "                        improving_moves.append((col, row))\n",
        "            board[col] = original_row\n",
        "        if not improving_moves:\n",
        "            if debug:\n",
        "                print(\"Reached local minimum; no improving move found.\")\n",
        "            break\n",
        "        col, row = random.choice(improving_moves)\n",
        "        board[col] = row\n",
        "        current_conflicts = conflicts(board)\n",
        "        if debug:\n",
        "            print(f\"Moved queen in column {col} to row {row}. New conflicts: {current_conflicts}\")\n",
        "            print(f\"Board: {board}\")\n",
        "    return board"
      ]
    },
    {
      "cell_type": "code",
      "source": [
        "board = random_board(4)\n",
        "print(f\"Initial board (queens in rows): {board}\")\n",
        "print(f\"Initial conflicts: {conflicts(board)}\")\n",
        "show_board(board)\n",
        "\n",
        "board = stochastic_hill_climbing(board)\n",
        "print(f\"Final board (queens in rows): {board}\")\n",
        "print(f\"Final conflicts: {conflicts(board)}\")\n",
        "show_board(board)"
      ],
      "metadata": {
        "colab": {
          "base_uri": "https://localhost:8080/",
          "height": 897
        },
        "id": "G4ARScpmv4dz",
        "outputId": "9864da5d-8977-457c-c02f-df1d2804e201"
      },
      "execution_count": 225,
      "outputs": [
        {
          "output_type": "stream",
          "name": "stdout",
          "text": [
            "Initial board (queens in rows): [3 3 2 1]\n",
            "Initial conflicts: 4\n",
            "Board with 4 conflicts.\n"
          ]
        },
        {
          "output_type": "display_data",
          "data": {
            "text/plain": [
              "<Figure size 640x480 with 1 Axes>"
            ],
            "image/png": "[encoded data removed]"
          },
          "metadata": {}
        },
        {
          "output_type": "stream",
          "name": "stdout",
          "text": [
            "Final board (queens in rows): [1 3 0 2]\n",
            "Final conflicts: 0\n",
            "Board with 0 conflicts.\n"
          ]
        },
        {
          "output_type": "display_data",
          "data": {
            "text/plain": [
              "<Figure size 640x480 with 1 Axes>"
            ],
            "image/png": "[encoded data removed]"
          },
          "metadata": {}
        }
      ]
    },
    {
      "cell_type": "markdown",
      "metadata": {
        "id": "M5bcGHCYtdLw"
      },
      "source": [
        "## Task 3: Stochastic Hill Climbing 2 [20 Points]\n",
        "\n",
        "A popular version of stochastic hill climbing generates only a single random local neighbor at a time and accept it if it has a better objective function value than the current state. This is very efficient if each state has many possible successor states. This method is called \"First-choice hill climbing\" in the textbook.\n",
        "\n",
        "__Notes:__\n",
        "\n",
        "* Detecting local optima is tricky! You can, for example, stop if you were not able to improve the objective function during the last $x$ tries."
      ]
    },
    {
      "cell_type": "code",
      "source": [
        "MAX_ITERS = 500"
      ],
      "metadata": {
        "id": "vlkFpvGJxpUC"
      },
      "execution_count": 226,
      "outputs": []
    },
    {
      "cell_type": "code",
      "execution_count": 230,
      "metadata": {
        "id": "WvyiPToQtdLx"
      },
      "outputs": [],
      "source": [
        "# Code and description go here\n",
        "def first_choice_hill_climbing(board, max_iters=None, debug=False):\n",
        "\n",
        "    n = len(board)\n",
        "    max_iters = len(board) * MAX_ITERS if max_iters is None else max_iters\n",
        "    current_conflicts = conflicts(board)\n",
        "    iters = 0\n",
        "\n",
        "    if debug:\n",
        "        print(f\"Initial board: {board}\")\n",
        "        print(f\"Initial conflicts: {current_conflicts}\")\n",
        "\n",
        "    while iters < (max_iters * 0.1):\n",
        "        # Pick a random column and a random row (different from the current row)\n",
        "        col = random.randint(0, n - 1)\n",
        "        current_row = board[col]\n",
        "        new_row = random.choice([r for r in range(n) if r != current_row])\n",
        "\n",
        "        board[col] = new_row\n",
        "        new_conflicts = conflicts(board)\n",
        "\n",
        "        if debug:\n",
        "            print(f\"Trying move queen in column {col} to row {new_row} => Conflicts: {new_conflicts}\")\n",
        "\n",
        "        if new_conflicts < current_conflicts:\n",
        "            current_conflicts = new_conflicts\n",
        "            iters = 0\n",
        "            if debug:\n",
        "                print(f\"Accepted move: column {col} to row {new_row}. New conflicts: {current_conflicts}\")\n",
        "                print(f\"Board: {board}\")\n",
        "        else:\n",
        "            board[col] = current_row\n",
        "            iters += 1\n",
        "\n",
        "        # If conflicts reach 0, we have found an optimal solution\n",
        "        if current_conflicts == 0:\n",
        "            break\n",
        "\n",
        "    if debug:\n",
        "        if current_conflicts == 0:\n",
        "            print(\"Found optimal solution.\")\n",
        "        else:\n",
        "            print(\"Stopped due to reaching max_iters without improvement.\")\n",
        "\n",
        "    return board"
      ]
    },
    {
      "cell_type": "code",
      "source": [
        "board = random_board(4)\n",
        "print(f\"Initial board (queens in rows): {board}\")\n",
        "print(f\"Initial conflicts: {conflicts(board)}\")\n",
        "show_board(board)\n",
        "\n",
        "board = first_choice_hill_climbing(board)\n",
        "print(f\"Final board (queens in rows): {board}\")\n",
        "print(f\"Final conflicts: {conflicts(board)}\")\n",
        "show_board(board)"
      ],
      "metadata": {
        "id": "4WOJ-Qnrx4go",
        "outputId": "bf3693e2-c25d-403d-ff9c-69f68a0e81dc",
        "colab": {
          "base_uri": "https://localhost:8080/",
          "height": 897
        }
      },
      "execution_count": 232,
      "outputs": [
        {
          "output_type": "stream",
          "name": "stdout",
          "text": [
            "Initial board (queens in rows): [1 3 1 0]\n",
            "Initial conflicts: 2\n",
            "Board with 2 conflicts.\n"
          ]
        },
        {
          "output_type": "display_data",
          "data": {
            "text/plain": [
              "<Figure size 640x480 with 1 Axes>"
            ],
            "image/png": "[encoded data removed]"
          },
          "metadata": {}
        },
        {
          "output_type": "stream",
          "name": "stdout",
          "text": [
            "Final board (queens in rows): [1 3 0 2]\n",
            "Final conflicts: 0\n",
            "Board with 0 conflicts.\n"
          ]
        },
        {
          "output_type": "display_data",
          "data": {
            "text/plain": [
              "<Figure size 640x480 with 1 Axes>"
            ],
            "image/png": "[encoded data removed]"
          },
          "metadata": {}
        }
      ]
    },
    {
      "cell_type": "markdown",
      "metadata": {
        "id": "_3zRH9DotdLx"
      },
      "source": [
        "## Task 4: Hill Climbing Search with Random Restarts [10 Points]\n",
        "\n",
        "Hill climbing will often end up in local optima. Restart the each of the three hill climbing algorithm up to 100 times with a random board to find a better (hopefully optimal) solution. Note that restart just means to run the algorithm several times starting with a new random board."
      ]
    },
    {
      "cell_type": "code",
      "execution_count": 233,
      "metadata": {
        "id": "Kro-nrmHtdLx"
      },
      "outputs": [],
      "source": [
        "# Code and description go here\n",
        "def hill_climbing_with_random_restarts(n, hill_climbing_algorithm, max_restarts=100, debug=False):\n",
        "    best_board = None\n",
        "    best_conflicts = float('inf')\n",
        "\n",
        "    for restart in range(max_restarts):\n",
        "        board = random_board(n)\n",
        "        final_board = hill_climbing_algorithm(board)\n",
        "        final_conflicts = conflicts(final_board)\n",
        "\n",
        "        if debug:\n",
        "            print(f\"Restart {restart + 1}: Conflicts = {final_conflicts}, Board = {final_board}\")\n",
        "\n",
        "        # Check if this is the best solution so far\n",
        "        if final_conflicts < best_conflicts:\n",
        "            best_conflicts = final_conflicts\n",
        "            best_board = final_board\n",
        "\n",
        "        # Stop early if an optimal solution is found\n",
        "        if best_conflicts == 0:\n",
        "            break\n",
        "\n",
        "    if debug:\n",
        "        print(\"Best solution found:\")\n",
        "        print(f\"Conflicts = {best_conflicts}\")\n",
        "        print(f\"Board = {best_board}\")\n",
        "\n",
        "    return best_board"
      ]
    },
    {
      "cell_type": "code",
      "source": [
        "n = 8\n",
        "\n",
        "print(\"Running with Steepest-Ascent Hill Climbing:\")\n",
        "best_board = hill_climbing_with_random_restarts(n, steepest_ascent, max_restarts=100)\n",
        "print(f\"Final board (queens in rows): {best_board}\")\n",
        "print(f\"Final conflicts: {conflicts(best_board)}\")\n",
        "show_board(board)\n",
        "\n",
        "print(\"\\nRunning with Stochastic Hill Climbing:\")\n",
        "best_board = hill_climbing_with_random_restarts(n, stochastic_hill_climbing, max_restarts=100)\n",
        "print(f\"Final board (queens in rows): {best_board}\")\n",
        "print(f\"Final conflicts: {conflicts(best_board)}\")\n",
        "show_board(board)\n",
        "\n",
        "print(\"\\nRunning with First-Choice Hill Climbing:\")\n",
        "best_board = hill_climbing_with_random_restarts(n, first_choice_hill_climbing, max_restarts=100)\n",
        "print(f\"Final board (queens in rows): {best_board}\")\n",
        "print(f\"Final conflicts: {conflicts(best_board)}\")\n",
        "show_board(board)"
      ],
      "metadata": {
        "id": "mmpYi7MDyOcs",
        "outputId": "0ce9ffa2-e68c-48e3-cc0c-b4703a1455ba",
        "colab": {
          "base_uri": "https://localhost:8080/",
          "height": 1000
        }
      },
      "execution_count": 236,
      "outputs": [
        {
          "output_type": "stream",
          "name": "stdout",
          "text": [
            "Running with Steepest-Ascent Hill Climbing:\n",
            "Final board (queens in rows): [3 6 2 7 1 4 0 5]\n",
            "Final conflicts: 0\n",
            "Board with 0 conflicts.\n"
          ]
        },
        {
          "output_type": "display_data",
          "data": {
            "text/plain": [
              "<Figure size 640x480 with 1 Axes>"
            ],
            "image/png": "[encoded data removed]"
          },
          "metadata": {}
        },
        {
          "output_type": "stream",
          "name": "stdout",
          "text": [
            "\n",
            "Running with Stochastic Hill Climbing:\n",
            "Final board (queens in rows): [3 1 6 4 0 7 5 2]\n",
            "Final conflicts: 0\n",
            "Board with 0 conflicts.\n"
          ]
        },
        {
          "output_type": "display_data",
          "data": {
            "text/plain": [
              "<Figure size 640x480 with 1 Axes>"
            ],
            "image/png": "[encoded data removed]"
          },
          "metadata": {}
        },
        {
          "output_type": "stream",
          "name": "stdout",
          "text": [
            "\n",
            "Running with First-Choice Hill Climbing:\n",
            "Final board (queens in rows): [6 3 1 7 5 0 2 4]\n",
            "Final conflicts: 0\n",
            "Board with 0 conflicts.\n"
          ]
        },
        {
          "output_type": "display_data",
          "data": {
            "text/plain": [
              "<Figure size 640x480 with 1 Axes>"
            ],
            "image/png": "[encoded data removed]"
          },
          "metadata": {}
        }
      ]
    },
    {
      "cell_type": "markdown",
      "metadata": {
        "id": "R9aTu8OFtdLx"
      },
      "source": [
        "## Task 5: Simulated Annealing [10 Points]\n",
        "\n",
        "Simulated annealing is a form of stochastic hill climbing that avoid local optima by also allowing downhill moves with a probability proportional to a temperature. The temperature is decreased in every iteration following an annealing schedule. You have to experiment with the annealing schedule (Google to find guidance on this).\n",
        "\n",
        "\n",
        "1. Implement simulated annealing for the n-Queens problem.\n",
        "2. Compare the performance with the previous algorithms.\n",
        "2. Discuss your choice of annealing schedule."
      ]
    },
    {
      "cell_type": "code",
      "source": [
        "import math"
      ],
      "metadata": {
        "id": "wjvz8JeAyjhW"
      },
      "execution_count": 238,
      "outputs": []
    },
    {
      "cell_type": "code",
      "execution_count": 240,
      "metadata": {
        "id": "gsR1HozctdLx"
      },
      "outputs": [],
      "source": [
        "# Code and description go here\n",
        "def simulated_annealing(n, initial_temperature=500, alpha=0.95, max_iters=None, debug=False):\n",
        "    def acceptance_probability(delta_e, temperature):\n",
        "        return math.exp(-delta_e / temperature)\n",
        "\n",
        "    board = random_board(n)\n",
        "    max_iters = len(board) * MAX_ITERS if max_iters is None else max_iters\n",
        "    current_conflicts = conflicts(board)\n",
        "    temperature = initial_temperature\n",
        "\n",
        "    if debug:\n",
        "        print(f\"Initial board: {board}\")\n",
        "        print(f\"Initial conflicts: {current_conflicts}\")\n",
        "\n",
        "    for iteration in range(max_iters):\n",
        "        if temperature <= 0:\n",
        "            break\n",
        "\n",
        "        col = random.randint(0, n - 1)\n",
        "        current_row = board[col]\n",
        "        new_row = random.choice([r for r in range(n) if r != current_row])\n",
        "\n",
        "        board[col] = new_row\n",
        "        new_conflicts = conflicts(board)\n",
        "        delta_e = new_conflicts - current_conflicts\n",
        "\n",
        "        if delta_e < 0 or random.random() < acceptance_probability(delta_e, temperature):\n",
        "\n",
        "            current_conflicts = new_conflicts\n",
        "            if debug:\n",
        "                print(f\"Iteration {iteration}: Moved queen in column {col} to row {new_row}, Conflicts: {current_conflicts}, Temperature: {temperature}\")\n",
        "        else:\n",
        "            board[col] = current_row\n",
        "\n",
        "        if current_conflicts == 0:\n",
        "            break\n",
        "\n",
        "        temperature *= alpha  # Exponential decay\n",
        "\n",
        "    if debug:\n",
        "        if current_conflicts == 0:\n",
        "            print(\"Found optimal solution.\")\n",
        "        else:\n",
        "            print(f\"Stopped after {iteration + 1} iterations. Best conflicts: {current_conflicts}\")\n",
        "\n",
        "    return board"
      ]
    },
    {
      "cell_type": "code",
      "source": [],
      "metadata": {
        "id": "btQ3w_TPy8J4"
      },
      "execution_count": null,
      "outputs": []
    },
    {
      "cell_type": "markdown",
      "metadata": {
        "id": "Vk6W9NsPtdLx"
      },
      "source": [
        "## Task 6: Compare Performance [10 Points]\n",
        "\n",
        "Compare the algorithm using runtime and objective function values. Use boards of size 4 and 8 to explore how the different algorithms perform. Make sure that you run the algorithms for each board size several times (at least 100 times) with different starting boards and report averages.\n",
        "\n",
        "Complete the following table\n",
        "\n",
        "| Algorithm           | Board size | Avg. Run time | Avg. number of conflicts | % of runs ending in optimal solution  |\n",
        "| ------------------- | ---------- | ------------- | --------------------------------- | - |\n",
        "| Steepest asc. HC    |     4      |               |                                   |   |\n",
        "| Stochastic HC 1     |     4      |               |                                   |   |\n",
        "| Stochastic HC 2     |     4      |               |                                   |   |\n",
        "| Simulated Annealing |     4      |               |                                   |   |\n",
        "| Steepest asc. HC    |     8      |               |                                   |   |\n",
        "| Stochastic HC 1     |     8      |               |                                   |   |\n",
        "| Stochastic HC 2     |     8      |               |                                   |   |\n",
        "| Simulated Annealing |     8      |               |                                   |   |\n",
        "\n",
        "\n",
        "Add the used code and the answer to the following questions below.\n",
        "\n",
        "* How do the algorithms scale with problem size? You will need to run more board sizes. You can add the results to the table above and show the result as a chart.\n",
        "\n",
        "* What is the largest board each algorithm can solve in a reasonable amount time?\n",
        "\n",
        "Hint: See [Profiling Python Code](../HOWTOs/profiling_code.ipynb) for help about how to measure runtime in Python."
      ]
    },
    {
      "cell_type": "code",
      "source": [
        "from statistics import mean\n",
        "import time"
      ],
      "metadata": {
        "id": "wNpboh5VzMwo"
      },
      "execution_count": 242,
      "outputs": []
    },
    {
      "cell_type": "code",
      "execution_count": 244,
      "metadata": {
        "id": "2IJbBw2qtdLx"
      },
      "outputs": [],
      "source": [
        "# Code, results, charts and discussion go here\n",
        "def run_algorithm(algorithm, n, iterations=100):\n",
        "    runtimes = []\n",
        "    conflicts_list = []\n",
        "    optimal_solutions = 0\n",
        "\n",
        "    for _ in range(iterations):\n",
        "        board = random_board(n)\n",
        "        start_time = time.time()\n",
        "        final_board = algorithm(board.copy())\n",
        "        end_time = time.time()\n",
        "\n",
        "        runtime = end_time - start_time\n",
        "        current_conflicts = conflicts(final_board)\n",
        "\n",
        "        runtimes.append(runtime)\n",
        "        conflicts_list.append(current_conflicts)\n",
        "\n",
        "        if current_conflicts == 0:\n",
        "            optimal_solutions += 1\n",
        "\n",
        "    avg_runtime = mean(runtimes)\n",
        "    avg_conflicts = mean(conflicts_list)\n",
        "    optimal_percentage = (optimal_solutions / iterations) * 100\n",
        "\n",
        "    return avg_runtime, avg_conflicts, optimal_percentage"
      ]
    },
    {
      "cell_type": "code",
      "source": [
        "algorithms = [\n",
        "    {'name': 'Steepest asc. HC', 'function': steepest_ascent},\n",
        "    {'name': 'Stochastic HC 1', 'function': stochastic_hill_climbing},\n",
        "    {'name': 'Stochastic HC 2', 'function': first_choice_hill_climbing},\n",
        "    {'name': 'Simulated Annealing', 'function':  simulated_annealing}\n",
        "]\n",
        "\n",
        "board_sizes = [4, 8, 12, 16]\n",
        "iterations = 100\n",
        "results = []\n",
        "\n",
        "for size in board_sizes:\n",
        "    print(f\"Running tests for board size {size} with {iterations} iterations each.\")\n",
        "\n",
        "    for algo in algorithms:\n",
        "        avg_runtime, avg_conflicts, optimal_percentage = run_algorithm(algo['function'], size, iterations)\n",
        "        results.append([algo['name'], size, avg_runtime, avg_conflicts, optimal_percentage])"
      ],
      "metadata": {
        "id": "9vpm1E6szbev",
        "outputId": "33660e54-fd48-4d91-acb4-d22474bb4586",
        "colab": {
          "base_uri": "https://localhost:8080/",
          "height": 326
        }
      },
      "execution_count": 245,
      "outputs": [
        {
          "output_type": "stream",
          "name": "stdout",
          "text": [
            "Running tests for board size 4 with 100 iterations each.\n"
          ]
        },
        {
          "output_type": "error",
          "ename": "UnboundLocalError",
          "evalue": "local variable 'conflicts' referenced before assignment",
          "traceback": [
            "\u001b[0;31m---------------------------------------------------------------------------\u001b[0m",
            "\u001b[0;31mUnboundLocalError\u001b[0m                         Traceback (most recent call last)",
            "\u001b[0;32m<ipython-input-245-c411886a37cc>\u001b[0m in \u001b[0;36m<cell line: 12>\u001b[0;34m()\u001b[0m\n\u001b[1;32m     14\u001b[0m \u001b[0;34m\u001b[0m\u001b[0m\n\u001b[1;32m     15\u001b[0m     \u001b[0;32mfor\u001b[0m \u001b[0malgo\u001b[0m \u001b[0;32min\u001b[0m \u001b[0malgorithms\u001b[0m\u001b[0;34m:\u001b[0m\u001b[0;34m\u001b[0m\u001b[0;34m\u001b[0m\u001b[0m\n\u001b[0;32m---> 16\u001b[0;31m         \u001b[0mavg_runtime\u001b[0m\u001b[0;34m,\u001b[0m \u001b[0mavg_conflicts\u001b[0m\u001b[0;34m,\u001b[0m \u001b[0moptimal_percentage\u001b[0m \u001b[0;34m=\u001b[0m \u001b[0mrun_algorithm\u001b[0m\u001b[0;34m(\u001b[0m\u001b[0malgo\u001b[0m\u001b[0;34m[\u001b[0m\u001b[0;34m'function'\u001b[0m\u001b[0;34m]\u001b[0m\u001b[0;34m,\u001b[0m \u001b[0msize\u001b[0m\u001b[0;34m,\u001b[0m \u001b[0miterations\u001b[0m\u001b[0;34m)\u001b[0m\u001b[0;34m\u001b[0m\u001b[0;34m\u001b[0m\u001b[0m\n\u001b[0m\u001b[1;32m     17\u001b[0m         \u001b[0mresults\u001b[0m\u001b[0;34m.\u001b[0m\u001b[0mappend\u001b[0m\u001b[0;34m(\u001b[0m\u001b[0;34m[\u001b[0m\u001b[0malgo\u001b[0m\u001b[0;34m[\u001b[0m\u001b[0;34m'name'\u001b[0m\u001b[0;34m]\u001b[0m\u001b[0;34m,\u001b[0m \u001b[0msize\u001b[0m\u001b[0;34m,\u001b[0m \u001b[0mavg_runtime\u001b[0m\u001b[0;34m,\u001b[0m \u001b[0mavg_conflicts\u001b[0m\u001b[0;34m,\u001b[0m \u001b[0moptimal_percentage\u001b[0m\u001b[0;34m]\u001b[0m\u001b[0;34m)\u001b[0m\u001b[0;34m\u001b[0m\u001b[0;34m\u001b[0m\u001b[0m\n",
            "\u001b[0;32m<ipython-input-244-2ad7fd851f56>\u001b[0m in \u001b[0;36mrun_algorithm\u001b[0;34m(algorithm, n, iterations)\u001b[0m\n\u001b[1;32m     12\u001b[0m \u001b[0;34m\u001b[0m\u001b[0m\n\u001b[1;32m     13\u001b[0m         \u001b[0mruntime\u001b[0m \u001b[0;34m=\u001b[0m \u001b[0mend_time\u001b[0m \u001b[0;34m-\u001b[0m \u001b[0mstart_time\u001b[0m\u001b[0;34m\u001b[0m\u001b[0;34m\u001b[0m\u001b[0m\n\u001b[0;32m---> 14\u001b[0;31m         \u001b[0mconflicts\u001b[0m \u001b[0;34m=\u001b[0m \u001b[0mconflicts\u001b[0m\u001b[0;34m(\u001b[0m\u001b[0mfinal_board\u001b[0m\u001b[0;34m)\u001b[0m\u001b[0;34m\u001b[0m\u001b[0;34m\u001b[0m\u001b[0m\n\u001b[0m\u001b[1;32m     15\u001b[0m \u001b[0;34m\u001b[0m\u001b[0m\n\u001b[1;32m     16\u001b[0m         \u001b[0mruntimes\u001b[0m\u001b[0;34m.\u001b[0m\u001b[0mappend\u001b[0m\u001b[0;34m(\u001b[0m\u001b[0mruntime\u001b[0m\u001b[0;34m)\u001b[0m\u001b[0;34m\u001b[0m\u001b[0;34m\u001b[0m\u001b[0m\n",
            "\u001b[0;31mUnboundLocalError\u001b[0m: local variable 'conflicts' referenced before assignment"
          ]
        }
      ]
    },
    {
      "cell_type": "markdown",
      "metadata": {
        "id": "jAzmxe8UtdLx"
      },
      "source": [
        "## Advanced task: Exploring other Local Moves\n",
        "\n",
        "* __Graduate students__ need to complete this task [10 points]\n",
        "* __Undergraduate students__ can attempt this as a bonus task [max +5 bonus points].\n",
        "\n",
        "Implement a few different local moves. Implement:\n",
        "\n",
        "* moving one queen only one square at a time\n",
        "* switching two columns\n",
        "* move two queens at a time\n",
        "\n",
        "Compare the performance of these moves for the 8-Queens problem using your stochastic hill climbing 2 implementation from above. Also consider mixing the use of several types of local moves (e.g., move one queen and moving two queens).\n",
        "\n",
        "Describe what you find out about how well these moves and combinations of these moves work."
      ]
    },
    {
      "cell_type": "code",
      "execution_count": null,
      "metadata": {
        "tags": [],
        "id": "ImrJj1iHtdLy"
      },
      "outputs": [],
      "source": [
        "# Code and description go here"
      ]
    },
    {
      "cell_type": "markdown",
      "metadata": {
        "id": "ISESD7DOtdLy"
      },
      "source": [
        "## More things to do\n",
        "\n",
        "Implement a Genetic Algorithm for the n-Queens problem."
      ]
    },
    {
      "cell_type": "code",
      "execution_count": null,
      "metadata": {
        "tags": [],
        "id": "nZinZxxktdLy"
      },
      "outputs": [],
      "source": [
        "# Code and description go here"
      ]
    }
  ],
  "metadata": {
    "kernelspec": {
      "display_name": "Python 3 (ipykernel)",
      "language": "python",
      "name": "python3"
    },
    "language_info": {
      "codemirror_mode": {
        "name": "ipython",
        "version": 3
      },
      "file_extension": ".py",
      "mimetype": "text/x-python",
      "name": "python",
      "nbconvert_exporter": "python",
      "pygments_lexer": "ipython3",
      "version": "3.10.12"
    },
    "toc-autonumbering": false,
    "toc-showcode": false,
    "toc-showmarkdowntxt": false,
    "toc-showtags": false,
    "colab": {
      "provenance": []
    }
  },
  "nbformat": 4,
  "nbformat_minor": 0
}